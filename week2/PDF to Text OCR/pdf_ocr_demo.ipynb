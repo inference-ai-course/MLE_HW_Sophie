{
 "cells": [
  {
   "cell_type": "markdown",
   "metadata": {},
   "source": [
    "# PDF to Text OCR Demo\n",
    "## 使用Tesseract OCR批量处理arXiv PDF文件\n",
    "\n",
    "这个notebook演示了如何使用Tesseract OCR将PDF文件转换为文本，并保持原有的布局结构。"
   ]
  },
  {
   "cell_type": "markdown",
   "metadata": {},
   "source": [
    "### 1. 安装依赖库\n",
    "\n",
    "首先安装所需的Python库："
   ]
  },
  {
   "cell_type": "code",
   "execution_count": null,
   "metadata": {},
   "outputs": [],
   "source": [
    "# 安装依赖库\n",
    "!pip install -r requirements.txt"
   ]
  },
  {
   "cell_type": "markdown",
   "metadata": {},
   "source": [
    "### 2. 导入必要的库"
   ]
  },
  {
   "cell_type": "code",
   "execution_count": null,
   "metadata": {},
   "outputs": [],
   "source": [
    "import os\n",
    "import sys\n",
    "from pathlib import Path\n",
    "import logging\n",
    "from datetime import datetime\n",
    "import matplotlib.pyplot as plt\n",
    "import numpy as np\n",
    "\n",
    "# 导入OCR相关库\n",
    "try:\n",
    "    import pytesseract\n",
    "    from pdf2image import convert_from_path\n",
    "    from PIL import Image\n",
    "    import cv2\n",
    "    print(\"✓ 所有依赖库导入成功\")\nexcept ImportError as e:\n",
    "    print(f\"❌ 缺少依赖库: {e}\")\n",
    "    print(\"请运行: pip install -r requirements.txt\")"
   ]
  },
  {
   "cell_type": "markdown",
   "metadata": {},
   "source": [
    "### 3. 检查Tesseract OCR安装"
   ]
  },
  {
   "cell_type": "code",
   "execution_count": null,
   "metadata": {},
   "outputs": [],
   "source": [
    "# 检查Tesseract是否已安装\n",
    "try:\n",
    "    version = pytesseract.get_tesseract_version()\n",
    "    print(f\"✓ Tesseract OCR版本: {version}\")\nexcept Exception as e:\n",
    "    print(f\"❌ Tesseract未找到: {e}\")\n",
    "    print(\"请安装Tesseract OCR:\")\n",
    "    print(\"  macOS: brew install tesseract\")\n",
    "    print(\"  Ubuntu: sudo apt install tesseract-ocr\")\n",
    "    print(\"  Windows: 下载并安装 https://github.com/UB-Mannheim/tesseract/wiki\")"
   ]
  },
  {
   "cell_type": "markdown",
   "metadata": {},
   "source": [
    "### 4. 导入OCR处理器类"
   ]
  },
  {
   "cell_type": "code",
   "execution_count": null,
   "metadata": {},
   "outputs": [],
   "source": [
    "# 导入我们创建的OCR处理器\n",
    "from pdf_ocr_batch import PDFOCRProcessor, download_arxiv_pdfs\n",
    "\n",
    "print(\"✓ OCR处理器导入成功\")"
   ]
  },
  {
   "cell_type": "markdown",
   "metadata": {},
   "source": [
    "### 5. 下载示例PDF文件"
   ]
  },
  {
   "cell_type": "code",
   "execution_count": null,
   "metadata": {},
   "outputs": [],
   "source": [
    "# 下载一些示例arXiv论文PDF\n",
    "print(\"正在下载示例PDF文件...\")\n",
    "success = download_arxiv_pdfs(Path(\"pdfs\"))\n",
    "\n",
    "if success:\n",
    "    print(\"✓ 示例PDF文件下载完成\")\n",
    "    \n",
    "    # 列出下载的文件\n",
    "    pdf_files = list(Path(\"pdfs\").glob(\"*.pdf\"))\n",
    "    print(f\"下载的PDF文件数量: {len(pdf_files)}\")\n",
    "    for pdf_file in pdf_files:\n",
    "        size_mb = pdf_file.stat().st_size / (1024 * 1024)\n",
    "        print(f\"  - {pdf_file.name} ({size_mb:.1f} MB)\")\nelse:\n",
    "    print(\"❌ 下载失败，请检查网络连接\")"
   ]
  },
  {
   "cell_type": "markdown",
   "metadata": {},
   "source": [
    "### 6. 演示单个PDF页面的OCR处理"
   ]
  },
  {
   "cell_type": "code",
   "execution_count": null,
   "metadata": {},
   "outputs": [],
   "source": [
    "# 选择第一个PDF文件进行演示\n",
    "pdf_files = list(Path(\"pdfs\").glob(\"*.pdf\"))\n",
    "\n",
    "if pdf_files:\n",
    "    demo_pdf = pdf_files[0]\n",
    "    print(f\"演示文件: {demo_pdf.name}\")\n",
    "    \n",
    "    # 转换PDF的第一页为图像\n",
    "    print(\"正在转换PDF第一页为图像...\")\n",
    "    pages = convert_from_path(demo_pdf, dpi=200, first_page=1, last_page=1)\n",
    "    \n",
    "    if pages:\n",
    "        first_page = pages[0]\n",
    "        \n",
    "        # 显示原始图像\n",
    "        plt.figure(figsize=(12, 16))\n",
    "        plt.subplot(1, 2, 1)\n",
    "        plt.imshow(first_page)\n",
    "        plt.title(\"原始PDF页面\")\n",
    "        plt.axis('off')\n",
    "        \n",
    "        # 创建OCR处理器并预处理图像\n",
    "        processor = PDFOCRProcessor()\n",
    "        processed_image = processor.preprocess_image(first_page)\n",
    "        \n",
    "        # 显示预处理后的图像\n",
    "        plt.subplot(1, 2, 2)\n",
    "        plt.imshow(processed_image, cmap='gray')\n",
    "        plt.title(\"预处理后的图像\")\n",
    "        plt.axis('off')\n",
    "        \n",
    "        plt.tight_layout()\n",
    "        plt.show()\n",
    "        \n",
    "        print(f\"图像尺寸: {first_page.size}\")\n",
    "    else:\n",
    "        print(\"❌ 无法转换PDF页面\")\nelse:\n",
    "    print(\"❌ 没有找到PDF文件\")"
   ]
  },
  {
   "cell_type": "markdown",
   "metadata": {},
   "source": [
    "### 7. 提取文本并显示结果"
   ]
  },
  {
   "cell_type": "code",
   "execution_count": null,
   "metadata": {},
   "outputs": [],
   "source": [
    "# 从第一页提取文本\n",
    "if 'first_page' in locals():\n",
    "    print(\"正在进行OCR文本提取...\")\n",
    "    \n",
    "    # 提取文本\n",
    "    text = processor.extract_text_from_image(first_page, 1)\n",
    "    \n",
    "    print(\"\\n\" + \"=\"*60)\n",
    "    print(\"OCR提取的文本 (前500字符):\")\n",
    "    print(\"=\"*60)\n",
    "    print(text[:500])\n",
    "    \n",
    "    if len(text) > 500:\n",
    "        print(\"\\n[文本已截断，完整文本会保存到输出文件中]\")\n",
    "    \n",
    "    print(f\"\\n提取的文本总长度: {len(text)} 字符\")\n",
    "    print(f\"文本行数: {len(text.splitlines())}\")"
   ]
  },
  {
   "cell_type": "markdown",
   "metadata": {},
   "source": [
    "### 8. 批量处理所有PDF文件"
   ]
  },
  {
   "cell_type": "code",
   "execution_count": null,
   "metadata": {},
   "outputs": [],
   "source": [
    "# 创建OCR处理器\n",
    "processor = PDFOCRProcessor(output_dir=\"pdf_ocr\", dpi=300)\n",
    "\n",
    "print(\"开始批量处理PDF文件...\")\n",
    "print(\"注意: 这可能需要几分钟时间，取决于PDF的大小和页数\")\n",
    "\n",
    "# 批量处理\n",
    "results = processor.batch_process(Path(\"pdfs\"))\n",
    "\n",
    "# 显示处理结果\n",
    "print(\"\\n\" + \"=\"*60)\n",
    "print(\"批量处理结果:\")\n",
    "print(\"=\"*60)\n",
    "\n",
    "if \"error\" in results:\n",
    "    print(f\"❌ 处理失败: {results['error']}\")\nelse:\n",
    "    print(f\"总文件数: {results['total']}\")\n",
    "    print(f\"✓ 成功处理: {results['successful']}\")\n",
    "    print(f\"❌ 处理失败: {results['failed']}\")\n",
    "    \n",
    "    if results['failed_files']:\n",
    "        print(f\"失败文件: {', '.join(results['failed_files'])}\")\n",
    "    \n",
    "    success_rate = (results['successful'] / results['total']) * 100 if results['total'] > 0 else 0\n",
    "    print(f\"成功率: {success_rate:.1f}%\")"
   ]
  },
  {
   "cell_type": "markdown",
   "metadata": {},
   "source": [
    "### 9. 检查输出文件"
   ]
  },
  {
   "cell_type": "code",
   "execution_count": null,
   "metadata": {},
   "outputs": [],
   "source": [
    "# 列出生成的文本文件\n",
    "output_files = list(Path(\"pdf_ocr\").glob(\"*.txt\"))\n",
    "\n",
    "print(f\"生成的文本文件数量: {len(output_files)}\")\n",
    "print(\"\\n输出文件列表:\")\n",
    "\n",
    "for txt_file in output_files:\n",
    "    size_kb = txt_file.stat().st_size / 1024\n",
    "    print(f\"  - {txt_file.name} ({size_kb:.1f} KB)\")\n",
    "\n",
    "# 显示第一个文件的开头内容\n",
    "if output_files:\n",
    "    first_txt = output_files[0]\n",
    "    print(f\"\\n文件 '{first_txt.name}' 的开头内容:\")\n",
    "    print(\"-\" * 50)\n",
    "    \n",
    "    with open(first_txt, 'r', encoding='utf-8') as f:\n",
    "        content = f.read(800)  # 读取前800字符\n",
    "        print(content)\n",
    "        \n",
    "    if len(content) >= 800:\n",
    "        print(\"\\n[内容已截断...]\")"
   ]
  },
  {
   "cell_type": "markdown",
   "metadata": {},
   "source": [
    "### 10. OCR质量分析"
   ]
  },
  {
   "cell_type": "code",
   "execution_count": null,
   "metadata": {},
   "outputs": [],
   "source": [
    "# 分析OCR结果质量\n",
    "if output_files:\n",
    "    print(\"OCR质量分析:\")\n",
    "    print(\"=\" * 40)\n",
    "    \n",
    "    total_chars = 0\n",
    "    total_words = 0\n",
    "    total_lines = 0\n",
    "    \n",
    "    for txt_file in output_files:\n",
    "        with open(txt_file, 'r', encoding='utf-8') as f:\n",
    "            content = f.read()\n",
    "            chars = len(content)\n",
    "            words = len(content.split())\n",
    "            lines = len(content.splitlines())\n",
    "            \n",
    "            total_chars += chars\n",
    "            total_words += words\n",
    "            total_lines += lines\n",
    "            \n",
    "            print(f\"{txt_file.name}:\")\n",
    "            print(f\"  字符数: {chars:,}\")\n",
    "            print(f\"  单词数: {words:,}\")\n",
    "            print(f\"  行数: {lines:,}\")\n",
    "            print()\n",
    "    \n",
    "    print(\"总计:\")\n",
    "    print(f\"  总字符数: {total_chars:,}\")\n",
    "    print(f\"  总单词数: {total_words:,}\")\n",
    "    print(f\"  总行数: {total_lines:,}\")\n",
    "    print(f\"  平均每个文件字符数: {total_chars/len(output_files):,.0f}\")"
   ]
  },
  {
   "cell_type": "markdown",
   "metadata": {},
   "source": [
    "### 11. 使用说明\n",
    "\n",
    "#### 命令行使用方法:\n",
    "\n",
    "```bash\n",
    "# 基本用法 - 处理pdfs/目录下的所有PDF文件\n",
    "python pdf_ocr_batch.py\n",
    "\n",
    "# 指定输入和输出目录\n",
    "python pdf_ocr_batch.py -i /path/to/pdfs -o /path/to/output\n",
    "\n",
    "# 下载示例文件并处理\n",
    "python pdf_ocr_batch.py --download\n",
    "\n",
    "# 调整DPI设置 (更高DPI = 更好质量但更慢)\n",
    "python pdf_ocr_batch.py --dpi 600\n",
    "```\n",
    "\n",
    "#### 输出文件格式:\n",
    "- 每个PDF文件生成一个对应的.txt文件\n",
    "- 保持页面结构，包含页码分隔符\n",
    "- 包含处理时间和页数信息\n",
    "- 使用UTF-8编码保存\n",
    "\n",
    "#### 配置选项:\n",
    "- **DPI设置**: 影响图像质量和处理速度 (推荐: 300-600)\n",
    "- **OCR语言**: 默认英文，可修改为其他语言\n",
    "- **页面分割模式**: 当前使用PSM 6，适合大多数学术论文\n",
    "\n",
    "#### 注意事项:\n",
    "- 确保系统已安装Tesseract OCR\n",
    "- PDF文件越大，处理时间越长\n",
    "- 图像质量会影响OCR准确性\n",
    "- 复杂布局（如多栏、表格）可能需要调整参数"
   ]
  }
 ],
 "metadata": {
  "kernelspec": {
   "display_name": "Python 3",
   "language": "python",
   "name": "python3"
  },
  "language_info": {
   "codemirror_mode": {
    "name": "ipython",
    "version": 3
   },
   "file_extension": ".py",
   "mimetype": "text/x-python",
   "name": "python",
   "nbconvert_exporter": "python",
   "pygments_lexer": "ipython3",
   "version": "3.8.0"
  }
 },
 "nbformat": 4,
 "nbformat_minor": 4
}
